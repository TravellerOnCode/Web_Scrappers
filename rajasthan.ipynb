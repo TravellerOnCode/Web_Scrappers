{
 "cells": [
  {
   "cell_type": "code",
   "execution_count": null,
   "metadata": {},
   "outputs": [],
   "source": [
    "import requests as req\n",
    "import os\n",
    "import pathlib"
   ]
  },
  {
   "cell_type": "code",
   "execution_count": null,
   "metadata": {},
   "outputs": [],
   "source": [
    "def adjust(i):\n",
    "    s1=\"\"\n",
    "    if (i<10):\n",
    "            s1=\"00\"+str(i)\n",
    "    elif (i>=10 and i<100):\n",
    "            s1=\"0\"+str(i) \n",
    "    else :\n",
    "        s1=i\n",
    "            \n",
    "    return s1"
   ]
  },
  {
   "cell_type": "code",
   "execution_count": null,
   "metadata": {},
   "outputs": [],
   "source": [
    "def pdf_saver(file_name,r):\n",
    "    \n",
    "    try:\n",
    "        \n",
    "    \n",
    "        with open(file_name,\"wb\") as pdf:\n",
    "            for chunk in r.iter_content(chunk_size=1024):\n",
    "\n",
    "                if chunk:\n",
    "                    pdf.write(chunk)\n",
    "        print(\"Done !!\")\n",
    "        \n",
    "    except:\n",
    "        print(\"Can't create file !!\")\n"
   ]
  },
  {
   "cell_type": "code",
   "execution_count": 3,
   "metadata": {},
   "outputs": [],
   "source": [
    "def file_path(a,b):\n",
    "            path='F:\\Data Sutram\\Rajasthan\\\\'+str(a)\n",
    "            #path='C:\\\\Users\\Dell\\Downloads\\SHAREit\\\\'+str(a)\n",
    "            pathlib.Path(path).mkdir(parents=True, exist_ok=True)\n",
    "            \n",
    "            file_path1 = 'F:\\Data Sutram\\Rajasthan\\\\'+str(a)+\"\\\\A\"+str(b)+\".pdf\"\n",
    "            \n",
    "            return file_path1"
   ]
  },
  {
   "cell_type": "code",
   "execution_count": null,
   "metadata": {},
   "outputs": [],
   "source": [
    "#file_path(1,2)"
   ]
  },
  {
   "cell_type": "code",
   "execution_count": null,
   "metadata": {},
   "outputs": [],
   "source": [
    "def main():\n",
    "    \n",
    "    ac=[]\n",
    "    pn=[]\n",
    "\n",
    "    ac=range(1,500)\n",
    "    pn=range(1,500)\n",
    "    \n",
    "    for i in ac:\n",
    "        s1=adjust(i)\n",
    "        for j in pn:\n",
    "        \n",
    "        \n",
    "            s2=adjust(j)\n",
    "        \n",
    "            s= \"https://www.ceorajasthan.nic.in/erolls/pdf/dper-18/A\"+str(s1)+\"/A\"+str(s1)+str(s2)+\".pdf\"\n",
    "            print (s)\n",
    "        \n",
    "            try:\n",
    "            \n",
    "            \n",
    "                r = req.get(s,stream = True , timeout = None )\n",
    "            \n",
    "            \n",
    "                if (r.status_code == 200):\n",
    "       \n",
    "                    final_path=file_path(s1,s2)\n",
    "                    print(final_path)\n",
    "                    pdf_saver(final_path,r)\n",
    "        \n",
    "            except:\n",
    "                print(\"Error : \")\n",
    "                            \n",
    "    "
   ]
  },
  {
   "cell_type": "code",
   "execution_count": null,
   "metadata": {},
   "outputs": [],
   "source": [
    "main()"
   ]
  },
  {
   "cell_type": "code",
   "execution_count": null,
   "metadata": {},
   "outputs": [],
   "source": []
  }
 ],
 "metadata": {
  "kernelspec": {
   "display_name": "Python 3",
   "language": "python",
   "name": "python3"
  },
  "language_info": {
   "codemirror_mode": {
    "name": "ipython",
    "version": 3
   },
   "file_extension": ".py",
   "mimetype": "text/x-python",
   "name": "python",
   "nbconvert_exporter": "python",
   "pygments_lexer": "ipython3",
   "version": "3.6.4"
  }
 },
 "nbformat": 4,
 "nbformat_minor": 2
}
